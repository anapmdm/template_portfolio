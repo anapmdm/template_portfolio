{
  "nbformat": 4,
  "nbformat_minor": 0,
  "metadata": {
    "colab": {
      "name": "Introdução ao Pandas",
      "provenance": [],
      "collapsed_sections": [],
      "authorship_tag": "ABX9TyNEbgVfjWzJj1eKPumoGCoe",
      "include_colab_link": true
    },
    "kernelspec": {
      "name": "python3",
      "display_name": "Python 3"
    }
  },
  "cells": [
    {
      "cell_type": "markdown",
      "metadata": {
        "id": "view-in-github",
        "colab_type": "text"
      },
      "source": [
        "<a href=\"https://colab.research.google.com/github/anapmdm/template_portfolio/blob/master/Introdu%C3%A7%C3%A3o_ao_Pandas.ipynb\" target=\"_parent\"><img src=\"https://colab.research.google.com/assets/colab-badge.svg\" alt=\"Open In Colab\"/></a>"
      ]
    },
    {
      "cell_type": "markdown",
      "metadata": {
        "id": "m6Jb9tsHXubr"
      },
      "source": [
        "**Introdução ao Pandas**\r\n",
        "1º: Vamos importar o *pandas* sempre **as pd**\r\n",
        "Através do Pandas é possivel importar dados com formato *.csv e xls**, fica mais fácil extrair informações como média, mediana, valores máximos e mínimos e visualizar gráficos.\r\n"
      ]
    },
    {
      "cell_type": "code",
      "metadata": {
        "id": "bupESeFOYGfi"
      },
      "source": [
        "#Importação da Biblioteca\r\n",
        "import pandas as pd"
      ],
      "execution_count": 1,
      "outputs": []
    },
    {
      "cell_type": "markdown",
      "metadata": {
        "id": "TnNNAavOZLut"
      },
      "source": [
        "**Importando arquivo .csv**\r\n",
        "Neste exemplo o arquivo importado está disponivel no site: [Yahoo Finance](https://https://finance.yahoo.com/) será os dados da ação ordinária do Banco do Brasil (BBAS3) que estão na minha pasta do github."
      ]
    },
    {
      "cell_type": "code",
      "metadata": {
        "id": "m6lqhdZbZ3-L"
      },
      "source": [
        "#Importando arquivo .csv para o pandas (arquivo do raw no github)\r\n",
        "df = pd.read_csv(\"https://raw.githubusercontent.com/anapmdm/BBAS3/main/BBAS3.SA.csv?token=ASRA47HHYEB76KIB67G3DT3AET4FM\")"
      ],
      "execution_count": 3,
      "outputs": []
    },
    {
      "cell_type": "markdown",
      "metadata": {
        "id": "3YsytCKIbDtU"
      },
      "source": [
        "**Componentes básicos do Pandas**\r\n",
        "São séries e data frame.\r\n",
        "O data Frame é um conjunto de séries (ou uma planilha no excel e cada série uma coluna).\r\n",
        "\r\n",
        "\r\n",
        "\r\n",
        "*  Type() mostra qual o tipo de váriavel\r\n"
      ]
    },
    {
      "cell_type": "code",
      "metadata": {
        "colab": {
          "base_uri": "https://localhost:8080/"
        },
        "id": "Lpz-AFvqbmyt",
        "outputId": "6ebf22e1-fb73-495f-d5cb-3223c8b18206"
      },
      "source": [
        "#verificar qual o tipo da variavel df\r\n",
        "type(df)"
      ],
      "execution_count": 4,
      "outputs": [
        {
          "output_type": "execute_result",
          "data": {
            "text/plain": [
              "pandas.core.frame.DataFrame"
            ]
          },
          "metadata": {
            "tags": []
          },
          "execution_count": 4
        }
      ]
    },
    {
      "cell_type": "code",
      "metadata": {
        "colab": {
          "base_uri": "https://localhost:8080/"
        },
        "id": "gEpHBJ8ocYaS",
        "outputId": "3a1346ce-a5c0-4228-f186-78d64c53fa3c"
      },
      "source": [
        "#verificar o tipo de coluna de df\r\n",
        "type(df['Date'])"
      ],
      "execution_count": 5,
      "outputs": [
        {
          "output_type": "execute_result",
          "data": {
            "text/plain": [
              "pandas.core.series.Series"
            ]
          },
          "metadata": {
            "tags": []
          },
          "execution_count": 5
        }
      ]
    },
    {
      "cell_type": "code",
      "metadata": {
        "colab": {
          "base_uri": "https://localhost:8080/"
        },
        "id": "b0n7L7BIcqlt",
        "outputId": "95c18c3e-88ab-4ec6-fada-c0f72dfa18d1"
      },
      "source": [
        "#verificando o tamanho do dataframe\r\n",
        "df.shape"
      ],
      "execution_count": 7,
      "outputs": [
        {
          "output_type": "execute_result",
          "data": {
            "text/plain": [
              "(247, 7)"
            ]
          },
          "metadata": {
            "tags": []
          },
          "execution_count": 7
        }
      ]
    },
    {
      "cell_type": "markdown",
      "metadata": {
        "id": "MTn_aLLCc_zt"
      },
      "source": [
        "Isso mostra que o arquivo importado possui 247 linhas e 7 colunas!"
      ]
    },
    {
      "cell_type": "code",
      "metadata": {
        "colab": {
          "base_uri": "https://localhost:8080/",
          "height": 195
        },
        "id": "V1mBxIcOdoWk",
        "outputId": "3f9197c6-2f60-48e2-f99c-07ec64d5b539"
      },
      "source": [
        "#verificando os 5 primeiras entradas do conjunto\r\n",
        "df.head()"
      ],
      "execution_count": 8,
      "outputs": [
        {
          "output_type": "execute_result",
          "data": {
            "text/html": [
              "<div>\n",
              "<style scoped>\n",
              "    .dataframe tbody tr th:only-of-type {\n",
              "        vertical-align: middle;\n",
              "    }\n",
              "\n",
              "    .dataframe tbody tr th {\n",
              "        vertical-align: top;\n",
              "    }\n",
              "\n",
              "    .dataframe thead th {\n",
              "        text-align: right;\n",
              "    }\n",
              "</style>\n",
              "<table border=\"1\" class=\"dataframe\">\n",
              "  <thead>\n",
              "    <tr style=\"text-align: right;\">\n",
              "      <th></th>\n",
              "      <th>Date</th>\n",
              "      <th>Open</th>\n",
              "      <th>High</th>\n",
              "      <th>Low</th>\n",
              "      <th>Close</th>\n",
              "      <th>Adj Close</th>\n",
              "      <th>Volume</th>\n",
              "    </tr>\n",
              "  </thead>\n",
              "  <tbody>\n",
              "    <tr>\n",
              "      <th>0</th>\n",
              "      <td>2020-02-11</td>\n",
              "      <td>49.919998</td>\n",
              "      <td>51.650002</td>\n",
              "      <td>49.680000</td>\n",
              "      <td>51.320000</td>\n",
              "      <td>49.331635</td>\n",
              "      <td>18096500.0</td>\n",
              "    </tr>\n",
              "    <tr>\n",
              "      <th>1</th>\n",
              "      <td>2020-02-12</td>\n",
              "      <td>51.869999</td>\n",
              "      <td>52.360001</td>\n",
              "      <td>50.669998</td>\n",
              "      <td>51.619999</td>\n",
              "      <td>49.620007</td>\n",
              "      <td>16617100.0</td>\n",
              "    </tr>\n",
              "    <tr>\n",
              "      <th>2</th>\n",
              "      <td>2020-02-13</td>\n",
              "      <td>51.349998</td>\n",
              "      <td>51.540001</td>\n",
              "      <td>50.450001</td>\n",
              "      <td>50.820000</td>\n",
              "      <td>48.851002</td>\n",
              "      <td>13806300.0</td>\n",
              "    </tr>\n",
              "    <tr>\n",
              "      <th>3</th>\n",
              "      <td>2020-02-14</td>\n",
              "      <td>50.880001</td>\n",
              "      <td>50.959999</td>\n",
              "      <td>49.570000</td>\n",
              "      <td>49.849998</td>\n",
              "      <td>47.918587</td>\n",
              "      <td>10022700.0</td>\n",
              "    </tr>\n",
              "    <tr>\n",
              "      <th>4</th>\n",
              "      <td>2020-02-17</td>\n",
              "      <td>50.080002</td>\n",
              "      <td>50.240002</td>\n",
              "      <td>49.099998</td>\n",
              "      <td>49.099998</td>\n",
              "      <td>47.197647</td>\n",
              "      <td>6749000.0</td>\n",
              "    </tr>\n",
              "  </tbody>\n",
              "</table>\n",
              "</div>"
            ],
            "text/plain": [
              "         Date       Open       High  ...      Close  Adj Close      Volume\n",
              "0  2020-02-11  49.919998  51.650002  ...  51.320000  49.331635  18096500.0\n",
              "1  2020-02-12  51.869999  52.360001  ...  51.619999  49.620007  16617100.0\n",
              "2  2020-02-13  51.349998  51.540001  ...  50.820000  48.851002  13806300.0\n",
              "3  2020-02-14  50.880001  50.959999  ...  49.849998  47.918587  10022700.0\n",
              "4  2020-02-17  50.080002  50.240002  ...  49.099998  47.197647   6749000.0\n",
              "\n",
              "[5 rows x 7 columns]"
            ]
          },
          "metadata": {
            "tags": []
          },
          "execution_count": 8
        }
      ]
    },
    {
      "cell_type": "code",
      "metadata": {
        "colab": {
          "base_uri": "https://localhost:8080/",
          "height": 195
        },
        "id": "Pn9Wo1-xd0RL",
        "outputId": "d7f59c33-5d1f-41af-e9b5-fd36b567fb97"
      },
      "source": [
        "#verificando as 5 ultimas entradas do conjunto\r\n",
        "df.tail()"
      ],
      "execution_count": 9,
      "outputs": [
        {
          "output_type": "execute_result",
          "data": {
            "text/html": [
              "<div>\n",
              "<style scoped>\n",
              "    .dataframe tbody tr th:only-of-type {\n",
              "        vertical-align: middle;\n",
              "    }\n",
              "\n",
              "    .dataframe tbody tr th {\n",
              "        vertical-align: top;\n",
              "    }\n",
              "\n",
              "    .dataframe thead th {\n",
              "        text-align: right;\n",
              "    }\n",
              "</style>\n",
              "<table border=\"1\" class=\"dataframe\">\n",
              "  <thead>\n",
              "    <tr style=\"text-align: right;\">\n",
              "      <th></th>\n",
              "      <th>Date</th>\n",
              "      <th>Open</th>\n",
              "      <th>High</th>\n",
              "      <th>Low</th>\n",
              "      <th>Close</th>\n",
              "      <th>Adj Close</th>\n",
              "      <th>Volume</th>\n",
              "    </tr>\n",
              "  </thead>\n",
              "  <tbody>\n",
              "    <tr>\n",
              "      <th>242</th>\n",
              "      <td>2021-02-04</td>\n",
              "      <td>34.599998</td>\n",
              "      <td>34.720001</td>\n",
              "      <td>34.020000</td>\n",
              "      <td>34.189999</td>\n",
              "      <td>34.189999</td>\n",
              "      <td>10074200.0</td>\n",
              "    </tr>\n",
              "    <tr>\n",
              "      <th>243</th>\n",
              "      <td>2021-02-05</td>\n",
              "      <td>34.279999</td>\n",
              "      <td>34.480000</td>\n",
              "      <td>33.810001</td>\n",
              "      <td>34.000000</td>\n",
              "      <td>34.000000</td>\n",
              "      <td>8052300.0</td>\n",
              "    </tr>\n",
              "    <tr>\n",
              "      <th>244</th>\n",
              "      <td>2021-02-08</td>\n",
              "      <td>33.939999</td>\n",
              "      <td>34.250000</td>\n",
              "      <td>33.599998</td>\n",
              "      <td>33.869999</td>\n",
              "      <td>33.869999</td>\n",
              "      <td>11651600.0</td>\n",
              "    </tr>\n",
              "    <tr>\n",
              "      <th>245</th>\n",
              "      <td>2021-02-09</td>\n",
              "      <td>33.770000</td>\n",
              "      <td>34.500000</td>\n",
              "      <td>33.650002</td>\n",
              "      <td>34.279999</td>\n",
              "      <td>34.279999</td>\n",
              "      <td>15307000.0</td>\n",
              "    </tr>\n",
              "    <tr>\n",
              "      <th>246</th>\n",
              "      <td>2021-02-10</td>\n",
              "      <td>34.279999</td>\n",
              "      <td>34.480000</td>\n",
              "      <td>33.750000</td>\n",
              "      <td>33.830002</td>\n",
              "      <td>33.830002</td>\n",
              "      <td>10459600.0</td>\n",
              "    </tr>\n",
              "  </tbody>\n",
              "</table>\n",
              "</div>"
            ],
            "text/plain": [
              "           Date       Open       High  ...      Close  Adj Close      Volume\n",
              "242  2021-02-04  34.599998  34.720001  ...  34.189999  34.189999  10074200.0\n",
              "243  2021-02-05  34.279999  34.480000  ...  34.000000  34.000000   8052300.0\n",
              "244  2021-02-08  33.939999  34.250000  ...  33.869999  33.869999  11651600.0\n",
              "245  2021-02-09  33.770000  34.500000  ...  34.279999  34.279999  15307000.0\n",
              "246  2021-02-10  34.279999  34.480000  ...  33.830002  33.830002  10459600.0\n",
              "\n",
              "[5 rows x 7 columns]"
            ]
          },
          "metadata": {
            "tags": []
          },
          "execution_count": 9
        }
      ]
    },
    {
      "cell_type": "code",
      "metadata": {
        "colab": {
          "base_uri": "https://localhost:8080/"
        },
        "id": "53satZcmeDGV",
        "outputId": "a88743e9-0cdb-4706-dc86-f095120a6584"
      },
      "source": [
        "#verificar o nome das colunas\r\n",
        "df.columns"
      ],
      "execution_count": 10,
      "outputs": [
        {
          "output_type": "execute_result",
          "data": {
            "text/plain": [
              "Index(['Date', 'Open', 'High', 'Low', 'Close', 'Adj Close', 'Volume'], dtype='object')"
            ]
          },
          "metadata": {
            "tags": []
          },
          "execution_count": 10
        }
      ]
    },
    {
      "cell_type": "markdown",
      "metadata": {
        "id": "oNIzEg_VfhTF"
      },
      "source": [
        "**Tipos de Variaveis**\r\n",
        "* Para dados como receita, despesas ou lucros : **float**.\r\n",
        "* Para anos: **int**\r\n",
        "* Para datas (11-02-2021): **datetime**\r\n"
      ]
    },
    {
      "cell_type": "code",
      "metadata": {
        "colab": {
          "base_uri": "https://localhost:8080/"
        },
        "id": "Qvtgir24gA5F",
        "outputId": "b3702c32-b314-48c8-ac9e-531b6f573e7b"
      },
      "source": [
        "#Conhecendo os tipos \r\n",
        "df.dtypes\r\n",
        "#incorreto Date apresentar como object"
      ],
      "execution_count": 11,
      "outputs": [
        {
          "output_type": "execute_result",
          "data": {
            "text/plain": [
              "Date          object\n",
              "Open         float64\n",
              "High         float64\n",
              "Low          float64\n",
              "Close        float64\n",
              "Adj Close    float64\n",
              "Volume       float64\n",
              "dtype: object"
            ]
          },
          "metadata": {
            "tags": []
          },
          "execution_count": 11
        }
      ]
    },
    {
      "cell_type": "code",
      "metadata": {
        "colab": {
          "base_uri": "https://localhost:8080/"
        },
        "id": "fIYH_dSWgNH9",
        "outputId": "04b95850-d1f8-41f2-e101-e1d2fb7e4666"
      },
      "source": [
        "#conhecendo os tipos e verificando se há dados em branco \r\n",
        "df.info()"
      ],
      "execution_count": 12,
      "outputs": [
        {
          "output_type": "stream",
          "text": [
            "<class 'pandas.core.frame.DataFrame'>\n",
            "RangeIndex: 247 entries, 0 to 246\n",
            "Data columns (total 7 columns):\n",
            " #   Column     Non-Null Count  Dtype  \n",
            "---  ------     --------------  -----  \n",
            " 0   Date       247 non-null    object \n",
            " 1   Open       246 non-null    float64\n",
            " 2   High       246 non-null    float64\n",
            " 3   Low        246 non-null    float64\n",
            " 4   Close      246 non-null    float64\n",
            " 5   Adj Close  246 non-null    float64\n",
            " 6   Volume     246 non-null    float64\n",
            "dtypes: float64(6), object(1)\n",
            "memory usage: 13.6+ KB\n"
          ],
          "name": "stdout"
        }
      ]
    },
    {
      "cell_type": "markdown",
      "metadata": {
        "id": "53o0ZQLig5v-"
      },
      "source": [
        "**Selecionando Colunas**\r\n",
        "Caso o nome da coluna seja simples basta digitar df**.**nomedacoluna,se não é necessário colocar df [\"nome da coluna\"]"
      ]
    },
    {
      "cell_type": "code",
      "metadata": {
        "colab": {
          "base_uri": "https://localhost:8080/"
        },
        "id": "LCLnQiXihLpD",
        "outputId": "1f04bb9a-1852-440a-e52a-0c277633ef92"
      },
      "source": [
        "#selecionando a coluna com \"\", não precisa ponto\r\n",
        "df[\"High\"]"
      ],
      "execution_count": 15,
      "outputs": [
        {
          "output_type": "execute_result",
          "data": {
            "text/plain": [
              "0      51.650002\n",
              "1      52.360001\n",
              "2      51.540001\n",
              "3      50.959999\n",
              "4      50.240002\n",
              "         ...    \n",
              "242    34.720001\n",
              "243    34.480000\n",
              "244    34.250000\n",
              "245    34.500000\n",
              "246    34.480000\n",
              "Name: High, Length: 247, dtype: float64"
            ]
          },
          "metadata": {
            "tags": []
          },
          "execution_count": 15
        }
      ]
    },
    {
      "cell_type": "code",
      "metadata": {
        "colab": {
          "base_uri": "https://localhost:8080/"
        },
        "id": "rnYz3ZA-hibL",
        "outputId": "5db82b2f-5212-4faa-917d-fe9c57e27ae0"
      },
      "source": [
        "#selecionando a coluna de nome simples diretamente, atentar para o ponto\r\n",
        "df.High"
      ],
      "execution_count": 17,
      "outputs": [
        {
          "output_type": "execute_result",
          "data": {
            "text/plain": [
              "0      51.650002\n",
              "1      52.360001\n",
              "2      51.540001\n",
              "3      50.959999\n",
              "4      50.240002\n",
              "         ...    \n",
              "242    34.720001\n",
              "243    34.480000\n",
              "244    34.250000\n",
              "245    34.500000\n",
              "246    34.480000\n",
              "Name: High, Length: 247, dtype: float64"
            ]
          },
          "metadata": {
            "tags": []
          },
          "execution_count": 17
        }
      ]
    },
    {
      "cell_type": "markdown",
      "metadata": {
        "id": "r25mZCANiCXU"
      },
      "source": [
        "**Calculando a Média**\r\n",
        "Para calculo de média usa-se .mean."
      ]
    },
    {
      "cell_type": "code",
      "metadata": {
        "colab": {
          "base_uri": "https://localhost:8080/"
        },
        "id": "o2LEL5LaiPYs",
        "outputId": "f21190d8-a42b-494a-d1f1-d4de2f3f3a07"
      },
      "source": [
        "#calculando a média da coluna High\r\n",
        "df.High.mean()"
      ],
      "execution_count": 18,
      "outputs": [
        {
          "output_type": "execute_result",
          "data": {
            "text/plain": [
              "34.3945936097561"
            ]
          },
          "metadata": {
            "tags": []
          },
          "execution_count": 18
        }
      ]
    },
    {
      "cell_type": "markdown",
      "metadata": {
        "id": "ythUbrCril2C"
      },
      "source": [
        "**Trabalhando com Datas**\r\n"
      ]
    },
    {
      "cell_type": "code",
      "metadata": {
        "colab": {
          "base_uri": "https://localhost:8080/"
        },
        "id": "liJrvlAEjFZS",
        "outputId": "ee9101f3-8906-415e-b2cb-93447f435f7f"
      },
      "source": [
        "#verificando o tipo de variavel da coluna Date\r\n",
        "type(\"Date\")\r\n",
        "#Apresenta como string ou seja texto"
      ],
      "execution_count": 19,
      "outputs": [
        {
          "output_type": "execute_result",
          "data": {
            "text/plain": [
              "str"
            ]
          },
          "metadata": {
            "tags": []
          },
          "execution_count": 19
        }
      ]
    },
    {
      "cell_type": "markdown",
      "metadata": {
        "id": "kkku2CANjYkm"
      },
      "source": [
        "É necessário modificar o tipo da coluna Date transformando ela de object (string) para datetime."
      ]
    },
    {
      "cell_type": "code",
      "metadata": {
        "colab": {
          "base_uri": "https://localhost:8080/"
        },
        "id": "E50kdwzKjry0",
        "outputId": "80c3dd08-cfb5-4c62-bea1-494c1ca50771"
      },
      "source": [
        "#antes\r\n",
        "df.Date"
      ],
      "execution_count": 21,
      "outputs": [
        {
          "output_type": "execute_result",
          "data": {
            "text/plain": [
              "0      2020-02-11\n",
              "1      2020-02-12\n",
              "2      2020-02-13\n",
              "3      2020-02-14\n",
              "4      2020-02-17\n",
              "          ...    \n",
              "242    2021-02-04\n",
              "243    2021-02-05\n",
              "244    2021-02-08\n",
              "245    2021-02-09\n",
              "246    2021-02-10\n",
              "Name: Date, Length: 247, dtype: object"
            ]
          },
          "metadata": {
            "tags": []
          },
          "execution_count": 21
        }
      ]
    },
    {
      "cell_type": "code",
      "metadata": {
        "id": "WaHXBKPqj2yj"
      },
      "source": [
        "#transformando para datetime apresentando o formato que eu quero ler\r\n",
        "df.Date = pd.to_datetime(df.Date, format= '%Y-%m-%d')\r\n"
      ],
      "execution_count": 30,
      "outputs": []
    },
    {
      "cell_type": "code",
      "metadata": {
        "colab": {
          "base_uri": "https://localhost:8080/"
        },
        "id": "iFQWr7Pkk5cD",
        "outputId": "20b17e8e-586e-450e-c2a3-024bbd002f8f"
      },
      "source": [
        "#verificando\r\n",
        "df.Date"
      ],
      "execution_count": 29,
      "outputs": [
        {
          "output_type": "execute_result",
          "data": {
            "text/plain": [
              "0     2020-02-11\n",
              "1     2020-02-12\n",
              "2     2020-02-13\n",
              "3     2020-02-14\n",
              "4     2020-02-17\n",
              "         ...    \n",
              "242   2021-02-04\n",
              "243   2021-02-05\n",
              "244   2021-02-08\n",
              "245   2021-02-09\n",
              "246   2021-02-10\n",
              "Name: Date, Length: 247, dtype: datetime64[ns]"
            ]
          },
          "metadata": {
            "tags": []
          },
          "execution_count": 29
        }
      ]
    },
    {
      "cell_type": "markdown",
      "metadata": {
        "id": "BXmSgFE0lM0B"
      },
      "source": [
        "Agora é possivel pegar informações como ano, mÊs e dia separadamente.\r\n"
      ]
    },
    {
      "cell_type": "code",
      "metadata": {
        "colab": {
          "base_uri": "https://localhost:8080/"
        },
        "id": "eaAQ9nuklTMw",
        "outputId": "6b1346ba-d3db-416d-d6da-a652df30adc0"
      },
      "source": [
        "#buscando o ano **dt é abreviação de datetime**\r\n",
        "df.Date.dt.year"
      ],
      "execution_count": 32,
      "outputs": [
        {
          "output_type": "execute_result",
          "data": {
            "text/plain": [
              "0      2020\n",
              "1      2020\n",
              "2      2020\n",
              "3      2020\n",
              "4      2020\n",
              "       ... \n",
              "242    2021\n",
              "243    2021\n",
              "244    2021\n",
              "245    2021\n",
              "246    2021\n",
              "Name: Date, Length: 247, dtype: int64"
            ]
          },
          "metadata": {
            "tags": []
          },
          "execution_count": 32
        }
      ]
    },
    {
      "cell_type": "code",
      "metadata": {
        "colab": {
          "base_uri": "https://localhost:8080/"
        },
        "id": "xcB1AvnplnmM",
        "outputId": "739b44b3-8d28-450f-d8b9-f1a6793f7759"
      },
      "source": [
        "#mês\r\n",
        "df.Date.dt.month"
      ],
      "execution_count": 33,
      "outputs": [
        {
          "output_type": "execute_result",
          "data": {
            "text/plain": [
              "0      2\n",
              "1      2\n",
              "2      2\n",
              "3      2\n",
              "4      2\n",
              "      ..\n",
              "242    2\n",
              "243    2\n",
              "244    2\n",
              "245    2\n",
              "246    2\n",
              "Name: Date, Length: 247, dtype: int64"
            ]
          },
          "metadata": {
            "tags": []
          },
          "execution_count": 33
        }
      ]
    },
    {
      "cell_type": "code",
      "metadata": {
        "colab": {
          "base_uri": "https://localhost:8080/"
        },
        "id": "WU8bf9IFlvWV",
        "outputId": "e1f347f0-0ffb-40a7-eaa8-1991fff45f47"
      },
      "source": [
        "#dia\r\n",
        "df.Date.dt.day"
      ],
      "execution_count": 34,
      "outputs": [
        {
          "output_type": "execute_result",
          "data": {
            "text/plain": [
              "0      11\n",
              "1      12\n",
              "2      13\n",
              "3      14\n",
              "4      17\n",
              "       ..\n",
              "242     4\n",
              "243     5\n",
              "244     8\n",
              "245     9\n",
              "246    10\n",
              "Name: Date, Length: 247, dtype: int64"
            ]
          },
          "metadata": {
            "tags": []
          },
          "execution_count": 34
        }
      ]
    },
    {
      "cell_type": "code",
      "metadata": {
        "colab": {
          "base_uri": "https://localhost:8080/"
        },
        "id": "z6uWmf8El0tw",
        "outputId": "fbe78926-f876-4404-d6aa-55b03f927e3b"
      },
      "source": [
        "#dia da semana\r\n",
        "df.Date.dt.dayofweek"
      ],
      "execution_count": 35,
      "outputs": [
        {
          "output_type": "execute_result",
          "data": {
            "text/plain": [
              "0      1\n",
              "1      2\n",
              "2      3\n",
              "3      4\n",
              "4      0\n",
              "      ..\n",
              "242    3\n",
              "243    4\n",
              "244    0\n",
              "245    1\n",
              "246    2\n",
              "Name: Date, Length: 247, dtype: int64"
            ]
          },
          "metadata": {
            "tags": []
          },
          "execution_count": 35
        }
      ]
    },
    {
      "cell_type": "markdown",
      "metadata": {
        "id": "9h4BefNWmmLl"
      },
      "source": [
        "**Para casos em que as datas estão apresentadas em formatos diferentes verificar os links:**\r\n",
        "(https://pandas.pydata.org/docs/reference/api/pandas.to_datetime.html?highlight=to_datetime#pandas.to_datetime)\r\n",
        "(https://docs.python.org/3/library/datetime.html#strftime-and-strptime-behavior)"
      ]
    }
  ]
}